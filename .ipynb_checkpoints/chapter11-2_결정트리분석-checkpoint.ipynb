{
 "cells": [
  {
   "cell_type": "code",
   "execution_count": 1,
   "id": "concerned-event",
   "metadata": {},
   "outputs": [
    {
     "name": "stdout",
     "output_type": "stream",
     "text": [
      "Collecting pandas==0.24.2"
     ]
    },
    {
     "name": "stderr",
     "output_type": "stream",
     "text": [
      "    ERROR: Command errored out with exit status 1:\n",
      "     command: 'c:\\users\\lg\\anaconda3\\python.exe' -c 'import sys, setuptools, tokenize; sys.argv[0] = '\"'\"'C:\\\\Users\\\\LG\\\\AppData\\\\Local\\\\Temp\\\\pip-install-s_fd_tan\\\\pandas_fa166810d29b4d5c96977f70e5c8f6e5\\\\setup.py'\"'\"'; __file__='\"'\"'C:\\\\Users\\\\LG\\\\AppData\\\\Local\\\\Temp\\\\pip-install-s_fd_tan\\\\pandas_fa166810d29b4d5c96977f70e5c8f6e5\\\\setup.py'\"'\"';f=getattr(tokenize, '\"'\"'open'\"'\"', open)(__file__);code=f.read().replace('\"'\"'\\r\\n'\"'\"', '\"'\"'\\n'\"'\"');f.close();exec(compile(code, __file__, '\"'\"'exec'\"'\"'))' egg_info --egg-base 'C:\\Users\\LG\\AppData\\Local\\Temp\\pip-pip-egg-info-wkqujyml'\n",
      "         cwd: C:\\Users\\LG\\AppData\\Local\\Temp\\pip-install-s_fd_tan\\pandas_fa166810d29b4d5c96977f70e5c8f6e5\\\n",
      "    Complete output (25 lines):\n",
      "    Traceback (most recent call last):\n",
      "      File \"<string>\", line 1, in <module>\n",
      "      File \"C:\\Users\\LG\\AppData\\Local\\Temp\\pip-install-s_fd_tan\\pandas_fa166810d29b4d5c96977f70e5c8f6e5\\setup.py\", line 735, in <module>\n",
      "        ext_modules=maybe_cythonize(extensions, compiler_directives=directives),\n",
      "      File \"C:\\Users\\LG\\AppData\\Local\\Temp\\pip-install-s_fd_tan\\pandas_fa166810d29b4d5c96977f70e5c8f6e5\\setup.py\", line 489, in maybe_cythonize\n",
      "        return cythonize(extensions, *args, **kwargs)\n",
      "      File \"c:\\users\\lg\\anaconda3\\lib\\site-packages\\Cython\\Build\\Dependencies.py\", line 963, in cythonize\n",
      "        ctx = c_options.create_context()\n",
      "      File \"c:\\users\\lg\\anaconda3\\lib\\site-packages\\Cython\\Compiler\\Main.py\", line 596, in create_context\n",
      "        return Context(self.include_path, self.compiler_directives,\n",
      "      File \"c:\\users\\lg\\anaconda3\\lib\\site-packages\\Cython\\Compiler\\Main.py\", line 80, in __init__\n",
      "        from . import Builtin, CythonScope\n",
      "      File \"c:\\users\\lg\\anaconda3\\lib\\site-packages\\Cython\\Compiler\\CythonScope.py\", line 5, in <module>\n",
      "        from .UtilityCode import CythonUtilityCode\n",
      "      File \"c:\\users\\lg\\anaconda3\\lib\\site-packages\\Cython\\Compiler\\UtilityCode.py\", line 3, in <module>\n",
      "        from .TreeFragment import parse_from_strings, StringParseContext\n",
      "      File \"c:\\users\\lg\\anaconda3\\lib\\site-packages\\Cython\\Compiler\\TreeFragment.py\", line 21, in <module>\n",
      "        from . import Parsing\n",
      "      File \"c:\\users\\lg\\anaconda3\\lib\\site-packages\\Cython\\Compiler\\Parsing.py\", line 31, in <module>\n",
      "        from .ModuleNode import ModuleNode\n",
      "      File \"c:\\users\\lg\\anaconda3\\lib\\site-packages\\Cython\\Compiler\\ModuleNode.py\", line 3216, in <module>\n",
      "        capsule_utility_code = UtilityCode.load(\"Capsule\")\n",
      "      File \"c:\\users\\lg\\anaconda3\\lib\\site-packages\\Cython\\Compiler\\Code.py\", line 368, in load\n",
      "        raise ValueError(\"More than one filename match found for utility code \" + util_code_name)\n",
      "    ValueError: More than one filename match found for utility code Capsule\n",
      "    ----------------------------------------\n",
      "WARNING: Discarding https://files.pythonhosted.org/packages/b2/4c/b6f966ac91c5670ba4ef0b0b5613b5379e3c7abdfad4e7b89a87d73bae13/pandas-0.24.2.tar.gz#sha256=4f919f409c433577a501e023943e582c57355d50a724c589e78bc1d551a535a2 (from https://pypi.org/simple/pandas/) (requires-python:>=2.7,!=3.0.*,!=3.1.*,!=3.2.*,!=3.3.*,!=3.4.*). Command errored out with exit status 1: python setup.py egg_info Check the logs for full command output.\n",
      "ERROR: Could not find a version that satisfies the requirement pandas==0.24.2\n",
      "ERROR: No matching distribution found for pandas==0.24.2\n"
     ]
    },
    {
     "name": "stdout",
     "output_type": "stream",
     "text": [
      "\n",
      "  Using cached pandas-0.24.2.tar.gz (11.8 MB)\n"
     ]
    }
   ],
   "source": [
    "!pip install pandas==0.24.2 "
   ]
  },
  {
   "cell_type": "code",
   "execution_count": 2,
   "id": "impossible-jacket",
   "metadata": {},
   "outputs": [
    {
     "data": {
      "text/plain": [
       "'1.2.1'"
      ]
     },
     "execution_count": 2,
     "metadata": {},
     "output_type": "execute_result"
    }
   ],
   "source": [
    "import numpy as np\n",
    "import pandas as pd\n",
    "\n",
    "pd.__version__ "
   ]
  },
  {
   "cell_type": "code",
   "execution_count": 5,
   "id": "intelligent-profession",
   "metadata": {},
   "outputs": [],
   "source": [
    "feature_name_df = feature_name_df = pd.read_csv('11-2_data\\\\UCI_HAR_Dataset\\\\UCI_HAR_Dataset\\\\features.txt', sep='\\s+',  \n",
    "                                                header=None, names=['index', 'feature_name'], engine='python')"
   ]
  },
  {
   "cell_type": "code",
   "execution_count": 7,
   "id": "welcome-egypt",
   "metadata": {},
   "outputs": [
    {
     "data": {
      "text/html": [
       "<div>\n",
       "<style scoped>\n",
       "    .dataframe tbody tr th:only-of-type {\n",
       "        vertical-align: middle;\n",
       "    }\n",
       "\n",
       "    .dataframe tbody tr th {\n",
       "        vertical-align: top;\n",
       "    }\n",
       "\n",
       "    .dataframe thead th {\n",
       "        text-align: right;\n",
       "    }\n",
       "</style>\n",
       "<table border=\"1\" class=\"dataframe\">\n",
       "  <thead>\n",
       "    <tr style=\"text-align: right;\">\n",
       "      <th></th>\n",
       "      <th>index</th>\n",
       "      <th>feature_name</th>\n",
       "    </tr>\n",
       "  </thead>\n",
       "  <tbody>\n",
       "    <tr>\n",
       "      <th>0</th>\n",
       "      <td>1</td>\n",
       "      <td>tBodyAcc-mean()-X</td>\n",
       "    </tr>\n",
       "    <tr>\n",
       "      <th>1</th>\n",
       "      <td>2</td>\n",
       "      <td>tBodyAcc-mean()-Y</td>\n",
       "    </tr>\n",
       "    <tr>\n",
       "      <th>2</th>\n",
       "      <td>3</td>\n",
       "      <td>tBodyAcc-mean()-Z</td>\n",
       "    </tr>\n",
       "    <tr>\n",
       "      <th>3</th>\n",
       "      <td>4</td>\n",
       "      <td>tBodyAcc-std()-X</td>\n",
       "    </tr>\n",
       "    <tr>\n",
       "      <th>4</th>\n",
       "      <td>5</td>\n",
       "      <td>tBodyAcc-std()-Y</td>\n",
       "    </tr>\n",
       "  </tbody>\n",
       "</table>\n",
       "</div>"
      ],
      "text/plain": [
       "   index       feature_name\n",
       "0      1  tBodyAcc-mean()-X\n",
       "1      2  tBodyAcc-mean()-Y\n",
       "2      3  tBodyAcc-mean()-Z\n",
       "3      4   tBodyAcc-std()-X\n",
       "4      5   tBodyAcc-std()-Y"
      ]
     },
     "execution_count": 7,
     "metadata": {},
     "output_type": "execute_result"
    }
   ],
   "source": [
    "feature_name_df.head()"
   ]
  },
  {
   "cell_type": "code",
   "execution_count": 8,
   "id": "exact-ultimate",
   "metadata": {},
   "outputs": [
    {
     "data": {
      "text/plain": [
       "(561, 2)"
      ]
     },
     "execution_count": 8,
     "metadata": {},
     "output_type": "execute_result"
    }
   ],
   "source": [
    "feature_name_df.shape"
   ]
  },
  {
   "cell_type": "code",
   "execution_count": 9,
   "id": "powered-underwear",
   "metadata": {},
   "outputs": [],
   "source": [
    "#index 제거하고, featrue_name만 리스트로 저장\n",
    "feature_name = feature_name_df.iloc[:,1].values.tolist()"
   ]
  },
  {
   "cell_type": "code",
   "execution_count": 10,
   "id": "rough-multiple",
   "metadata": {},
   "outputs": [
    {
     "data": {
      "text/plain": [
       "['tBodyAcc-mean()-X',\n",
       " 'tBodyAcc-mean()-Y',\n",
       " 'tBodyAcc-mean()-Z',\n",
       " 'tBodyAcc-std()-X',\n",
       " 'tBodyAcc-std()-Y']"
      ]
     },
     "execution_count": 10,
     "metadata": {},
     "output_type": "execute_result"
    }
   ],
   "source": [
    "feature_name[:5]"
   ]
  },
  {
   "cell_type": "code",
   "execution_count": 15,
   "id": "interpreted-embassy",
   "metadata": {},
   "outputs": [
    {
     "ename": "ValueError",
     "evalue": "Duplicate names are not allowed.",
     "output_type": "error",
     "traceback": [
      "\u001b[1;31m---------------------------------------------------------------------------\u001b[0m",
      "\u001b[1;31mValueError\u001b[0m                                Traceback (most recent call last)",
      "\u001b[1;32m<ipython-input-15-9e678aae6f7c>\u001b[0m in \u001b[0;36m<module>\u001b[1;34m\u001b[0m\n\u001b[1;32m----> 1\u001b[1;33m X_train = pd.read_csv('11-2_data\\\\UCI_HAR_Dataset\\\\UCI_HAR_Dataset\\\\train\\\\X_train.txt', sep='\\s+',\n\u001b[0m\u001b[0;32m      2\u001b[0m                       names=feature_name, engine='python')\n\u001b[0;32m      3\u001b[0m X_test = pd.read_csv('11-2_data\\\\UCI_HAR_Dataset\\\\UCI_HAR_Dataset\\\\test\\\\X_test.txt', sep='\\s+',\n\u001b[0;32m      4\u001b[0m                       names=feature_name, engine='python')\n\u001b[0;32m      5\u001b[0m Y_train = pd.read_csv('11-2_data\\\\UCI_HAR_Dataset\\\\UCI_HAR_Dataset\\\\train\\\\Y_train.txt', sep='\\s+',\n",
      "\u001b[1;32m~\\anaconda3\\lib\\site-packages\\pandas\\io\\parsers.py\u001b[0m in \u001b[0;36mread_csv\u001b[1;34m(filepath_or_buffer, sep, delimiter, header, names, index_col, usecols, squeeze, prefix, mangle_dupe_cols, dtype, engine, converters, true_values, false_values, skipinitialspace, skiprows, skipfooter, nrows, na_values, keep_default_na, na_filter, verbose, skip_blank_lines, parse_dates, infer_datetime_format, keep_date_col, date_parser, dayfirst, cache_dates, iterator, chunksize, compression, thousands, decimal, lineterminator, quotechar, quoting, doublequote, escapechar, comment, encoding, dialect, error_bad_lines, warn_bad_lines, delim_whitespace, low_memory, memory_map, float_precision, storage_options)\u001b[0m\n\u001b[0;32m    603\u001b[0m     \u001b[0mkwds\u001b[0m\u001b[1;33m.\u001b[0m\u001b[0mupdate\u001b[0m\u001b[1;33m(\u001b[0m\u001b[0mkwds_defaults\u001b[0m\u001b[1;33m)\u001b[0m\u001b[1;33m\u001b[0m\u001b[1;33m\u001b[0m\u001b[0m\n\u001b[0;32m    604\u001b[0m \u001b[1;33m\u001b[0m\u001b[0m\n\u001b[1;32m--> 605\u001b[1;33m     \u001b[1;32mreturn\u001b[0m \u001b[0m_read\u001b[0m\u001b[1;33m(\u001b[0m\u001b[0mfilepath_or_buffer\u001b[0m\u001b[1;33m,\u001b[0m \u001b[0mkwds\u001b[0m\u001b[1;33m)\u001b[0m\u001b[1;33m\u001b[0m\u001b[1;33m\u001b[0m\u001b[0m\n\u001b[0m\u001b[0;32m    606\u001b[0m \u001b[1;33m\u001b[0m\u001b[0m\n\u001b[0;32m    607\u001b[0m \u001b[1;33m\u001b[0m\u001b[0m\n",
      "\u001b[1;32m~\\anaconda3\\lib\\site-packages\\pandas\\io\\parsers.py\u001b[0m in \u001b[0;36m_read\u001b[1;34m(filepath_or_buffer, kwds)\u001b[0m\n\u001b[0;32m    452\u001b[0m \u001b[1;33m\u001b[0m\u001b[0m\n\u001b[0;32m    453\u001b[0m     \u001b[1;31m# Check for duplicates in names.\u001b[0m\u001b[1;33m\u001b[0m\u001b[1;33m\u001b[0m\u001b[1;33m\u001b[0m\u001b[0m\n\u001b[1;32m--> 454\u001b[1;33m     \u001b[0m_validate_names\u001b[0m\u001b[1;33m(\u001b[0m\u001b[0mkwds\u001b[0m\u001b[1;33m.\u001b[0m\u001b[0mget\u001b[0m\u001b[1;33m(\u001b[0m\u001b[1;34m\"names\"\u001b[0m\u001b[1;33m,\u001b[0m \u001b[1;32mNone\u001b[0m\u001b[1;33m)\u001b[0m\u001b[1;33m)\u001b[0m\u001b[1;33m\u001b[0m\u001b[1;33m\u001b[0m\u001b[0m\n\u001b[0m\u001b[0;32m    455\u001b[0m \u001b[1;33m\u001b[0m\u001b[0m\n\u001b[0;32m    456\u001b[0m     \u001b[1;31m# Create the parser.\u001b[0m\u001b[1;33m\u001b[0m\u001b[1;33m\u001b[0m\u001b[1;33m\u001b[0m\u001b[0m\n",
      "\u001b[1;32m~\\anaconda3\\lib\\site-packages\\pandas\\io\\parsers.py\u001b[0m in \u001b[0;36m_validate_names\u001b[1;34m(names)\u001b[0m\n\u001b[0;32m    433\u001b[0m     \u001b[1;32mif\u001b[0m \u001b[0mnames\u001b[0m \u001b[1;32mis\u001b[0m \u001b[1;32mnot\u001b[0m \u001b[1;32mNone\u001b[0m\u001b[1;33m:\u001b[0m\u001b[1;33m\u001b[0m\u001b[1;33m\u001b[0m\u001b[0m\n\u001b[0;32m    434\u001b[0m         \u001b[1;32mif\u001b[0m \u001b[0mlen\u001b[0m\u001b[1;33m(\u001b[0m\u001b[0mnames\u001b[0m\u001b[1;33m)\u001b[0m \u001b[1;33m!=\u001b[0m \u001b[0mlen\u001b[0m\u001b[1;33m(\u001b[0m\u001b[0mset\u001b[0m\u001b[1;33m(\u001b[0m\u001b[0mnames\u001b[0m\u001b[1;33m)\u001b[0m\u001b[1;33m)\u001b[0m\u001b[1;33m:\u001b[0m\u001b[1;33m\u001b[0m\u001b[1;33m\u001b[0m\u001b[0m\n\u001b[1;32m--> 435\u001b[1;33m             \u001b[1;32mraise\u001b[0m \u001b[0mValueError\u001b[0m\u001b[1;33m(\u001b[0m\u001b[1;34m\"Duplicate names are not allowed.\"\u001b[0m\u001b[1;33m)\u001b[0m\u001b[1;33m\u001b[0m\u001b[1;33m\u001b[0m\u001b[0m\n\u001b[0m\u001b[0;32m    436\u001b[0m         if not (\n\u001b[0;32m    437\u001b[0m             \u001b[0mis_list_like\u001b[0m\u001b[1;33m(\u001b[0m\u001b[0mnames\u001b[0m\u001b[1;33m,\u001b[0m \u001b[0mallow_sets\u001b[0m\u001b[1;33m=\u001b[0m\u001b[1;32mFalse\u001b[0m\u001b[1;33m)\u001b[0m \u001b[1;32mor\u001b[0m \u001b[0misinstance\u001b[0m\u001b[1;33m(\u001b[0m\u001b[0mnames\u001b[0m\u001b[1;33m,\u001b[0m \u001b[0mabc\u001b[0m\u001b[1;33m.\u001b[0m\u001b[0mKeysView\u001b[0m\u001b[1;33m)\u001b[0m\u001b[1;33m\u001b[0m\u001b[1;33m\u001b[0m\u001b[0m\n",
      "\u001b[1;31mValueError\u001b[0m: Duplicate names are not allowed."
     ]
    }
   ],
   "source": [
    "X_train = pd.read_csv('11-2_data\\\\UCI_HAR_Dataset\\\\UCI_HAR_Dataset\\\\train\\\\X_train.txt', sep='\\s+',\n",
    "                      names=feature_name, engine='python')\n",
    "X_test = pd.read_csv('11-2_data\\\\UCI_HAR_Dataset\\\\UCI_HAR_Dataset\\\\test\\\\X_test.txt', sep='\\s+',\n",
    "                      names=feature_name, engine='python')\n",
    "Y_train = pd.read_csv('11-2_data\\\\UCI_HAR_Dataset\\\\UCI_HAR_Dataset\\\\train\\\\Y_train.txt', sep='\\s+',\n",
    "                      header=None, names=['action'], engine='python')\n",
    "Y_test = pd.read_csv('11-2_data\\\\UCI_HAR_Dataset\\\\UCI_HAR_Dataset\\\\test\\\\Y_test.txt', sep='\\s+',\n",
    "                      header=None, names=['action'], engine='python')"
   ]
  },
  {
   "cell_type": "code",
   "execution_count": null,
   "id": "incorporate-welcome",
   "metadata": {},
   "outputs": [],
   "source": []
  },
  {
   "cell_type": "code",
   "execution_count": null,
   "id": "premium-slovak",
   "metadata": {},
   "outputs": [],
   "source": []
  }
 ],
 "metadata": {
  "kernelspec": {
   "display_name": "Python 3",
   "language": "python",
   "name": "python3"
  },
  "language_info": {
   "codemirror_mode": {
    "name": "ipython",
    "version": 3
   },
   "file_extension": ".py",
   "mimetype": "text/x-python",
   "name": "python",
   "nbconvert_exporter": "python",
   "pygments_lexer": "ipython3",
   "version": "3.8.5"
  }
 },
 "nbformat": 4,
 "nbformat_minor": 5
}
