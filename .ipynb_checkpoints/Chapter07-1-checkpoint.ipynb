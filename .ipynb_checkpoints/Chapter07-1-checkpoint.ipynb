{
 "cells": [
  {
   "cell_type": "code",
   "execution_count": 1,
   "metadata": {},
   "outputs": [],
   "source": [
    "#와인품질등급예측하기"
   ]
  },
  {
   "cell_type": "code",
   "execution_count": 29,
   "metadata": {},
   "outputs": [],
   "source": [
    "#데이터전처리 (열구분자를 세미콜론에서 쉼표로 바꾸기)\n",
    "\n",
    "import pandas as pd\n",
    "\n",
    "red_df = pd.read_csv('C:\\\\Users\\\\LG\\\\Documents\\\\phython_hwang\\\\HwangGlasses2_BigData\\\\7장_data\\\\winequality-red.csv', \n",
    "                      sep=';', header=0, engine='python') #sep 매개변수 값을 ';'으로 지정\n",
    "white_df = pd.read_csv('C:\\\\Users\\\\LG\\\\Documents\\\\phython_hwang\\\\HwangGlasses2_BigData\\\\7장_data\\\\winequality-white.csv', \n",
    "                      sep=';', header=0, engine='python')\n",
    "\n",
    "red_df.to_csv('C:\\\\Users\\\\LG\\\\Documents\\\\phython_hwang\\\\HwangGlasses2_BigData\\\\7장_data\\\\winequality-red2.csv', index=False)\n",
    "white_df.to_csv('C:\\\\Users\\\\LG\\\\Documents\\\\phython_hwang\\\\HwangGlasses2_BigData\\\\7장_data\\\\winequality-white2.csv', index=False)"
   ]
  },
  {
   "cell_type": "code",
   "execution_count": 30,
   "metadata": {},
   "outputs": [],
   "source": [
    "#데이터병합(레드와인데이터+화이트와인데이터)\n",
    "\n",
    "red_df.insert(0,column='type',value='red')\n",
    "#red_df.head()\n",
    "\n",
    "white_df.insert(0,column='type',value='white')\n",
    "#white_df.head()\n",
    "\n",
    "wine = pd.concat([red_df, white_df])\n",
    "wine.to_csv('C:\\\\Users\\\\LG\\\\Documents\\\\phython_hwang\\\\HwangGlasses2_BigData\\\\7장_data\\\\wine.csv', index = False)"
   ]
  },
  {
   "cell_type": "code",
   "execution_count": 35,
   "metadata": {},
   "outputs": [
    {
     "name": "stdout",
     "output_type": "stream",
     "text": [
      "<class 'pandas.core.frame.DataFrame'>\n",
      "Int64Index: 6497 entries, 0 to 4897\n",
      "Data columns (total 13 columns):\n",
      " #   Column                Non-Null Count  Dtype  \n",
      "---  ------                --------------  -----  \n",
      " 0   type                  6497 non-null   object \n",
      " 1   fixed_acidity         6497 non-null   float64\n",
      " 2   volatile_acidity      6497 non-null   float64\n",
      " 3   citric_acid           6497 non-null   float64\n",
      " 4   residual_sugar        6497 non-null   float64\n",
      " 5   chlorides             6497 non-null   float64\n",
      " 6   free_sulfur_dioxide   6497 non-null   float64\n",
      " 7   total_sulfur_dioxide  6497 non-null   float64\n",
      " 8   density               6497 non-null   float64\n",
      " 9   pH                    6497 non-null   float64\n",
      " 10  sulphates             6497 non-null   float64\n",
      " 11  alcohol               6497 non-null   float64\n",
      " 12  quality               6497 non-null   int64  \n",
      "dtypes: float64(11), int64(1), object(1)\n",
      "memory usage: 710.6+ KB\n",
      "None\n"
     ]
    },
    {
     "data": {
      "text/plain": [
       "6    2836\n",
       "5    2138\n",
       "7    1079\n",
       "4     216\n",
       "8     193\n",
       "3      30\n",
       "9       5\n",
       "Name: quality, dtype: int64"
      ]
     },
     "execution_count": 35,
     "metadata": {},
     "output_type": "execute_result"
    }
   ],
   "source": [
    "#데이터탐색\n",
    "\n",
    "print(wine.info()) #기본정보확인\n",
    "\n",
    "wine.columns = wine.columns.str.replace(' ', '_') #이름 속 공백을 밑줄로 바꾸어 한단어로 연결\n",
    "wine.head() #바뀌었는지확인\n",
    "\n",
    "wine.describe() #속성별개수, 평균, 표준편차, 최소값, 백분위수 25%, 50%, 75%, 최대값\n",
    "\n",
    "wine.quality.unique() #quality속성 값 중 유일한 값 출력 => 와인품질등급종류\n",
    "\n",
    "wine.quality.value_counts() #quality 속성 값에 대한 빈도수 => 와인품질등급에따른빈도"
   ]
  },
  {
   "cell_type": "code",
   "execution_count": 38,
   "metadata": {},
   "outputs": [
    {
     "ename": "ModuleNotFoundError",
     "evalue": "No module named 'spicy'",
     "output_type": "error",
     "traceback": [
      "\u001b[1;31m---------------------------------------------------------------------------\u001b[0m",
      "\u001b[1;31mModuleNotFoundError\u001b[0m                       Traceback (most recent call last)",
      "\u001b[1;32m<ipython-input-38-a41933e4450c>\u001b[0m in \u001b[0;36m<module>\u001b[1;34m\u001b[0m\n\u001b[0;32m      5\u001b[0m \u001b[1;33m\u001b[0m\u001b[0m\n\u001b[0;32m      6\u001b[0m \u001b[1;31m#2 t-검정과 회귀분석으로 그룹 비교하기\u001b[0m\u001b[1;33m\u001b[0m\u001b[1;33m\u001b[0m\u001b[1;33m\u001b[0m\u001b[0m\n\u001b[1;32m----> 7\u001b[1;33m \u001b[1;32mfrom\u001b[0m \u001b[0mspicy\u001b[0m \u001b[1;32mimport\u001b[0m \u001b[0mstats\u001b[0m\u001b[1;33m\u001b[0m\u001b[1;33m\u001b[0m\u001b[0m\n\u001b[0m\u001b[0;32m      8\u001b[0m \u001b[1;32mfrom\u001b[0m \u001b[0mstatsmodels\u001b[0m\u001b[1;33m.\u001b[0m\u001b[0mformula\u001b[0m\u001b[1;33m.\u001b[0m\u001b[0mapi\u001b[0m \u001b[1;32mimport\u001b[0m \u001b[0mols\u001b[0m\u001b[1;33m,\u001b[0m \u001b[0mglm\u001b[0m\u001b[1;33m\u001b[0m\u001b[1;33m\u001b[0m\u001b[0m\n\u001b[0;32m      9\u001b[0m \u001b[0mred_wine_quality\u001b[0m \u001b[1;33m=\u001b[0m \u001b[0mwine\u001b[0m\u001b[1;33m.\u001b[0m\u001b[0mloc\u001b[0m\u001b[1;33m[\u001b[0m\u001b[0mwine\u001b[0m\u001b[1;33m[\u001b[0m\u001b[1;34m'type'\u001b[0m\u001b[1;33m]\u001b[0m\u001b[1;33m==\u001b[0m\u001b[1;34m'red'\u001b[0m\u001b[1;33m,\u001b[0m\u001b[1;34m'quality'\u001b[0m\u001b[1;33m]\u001b[0m\u001b[1;33m\u001b[0m\u001b[1;33m\u001b[0m\u001b[0m\n",
      "\u001b[1;31mModuleNotFoundError\u001b[0m: No module named 'spicy'"
     ]
    }
   ],
   "source": [
    "# 데이터모델링\n",
    "\n",
    "#1 describe() 함수로 그룹 비교하기\n",
    "wine.groupby('type')['quality'].describe()\n",
    "\n",
    "#2 t-검정과 회귀분석으로 그룹 비교하기\n",
    "from spicy import stats\n",
    "from statsmodels.formula.api import ols, glm\n",
    "red_wine_quality = wine.loc[wine['type']=='red','quality']\n",
    "white_wine_quality=wine.loc[wine['type']=='white', 'quality']\n",
    "status.ttest_ind(red_wine_quality, white_wine_quality, equal_var=False)\n",
    "#Rformula='quality ~ fixed_acidity + volatile_acidity + citric_acid + re'"
   ]
  },
  {
   "cell_type": "code",
   "execution_count": null,
   "metadata": {},
   "outputs": [],
   "source": []
  }
 ],
 "metadata": {
  "kernelspec": {
   "display_name": "Python 3",
   "language": "python",
   "name": "python3"
  },
  "language_info": {
   "codemirror_mode": {
    "name": "ipython",
    "version": 3
   },
   "file_extension": ".py",
   "mimetype": "text/x-python",
   "name": "python",
   "nbconvert_exporter": "python",
   "pygments_lexer": "ipython3",
   "version": "3.8.3"
  }
 },
 "nbformat": 4,
 "nbformat_minor": 4
}
